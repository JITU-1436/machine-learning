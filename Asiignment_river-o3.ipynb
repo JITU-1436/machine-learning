{
 "cells": [
  {
   "cell_type": "code",
   "execution_count": 54,
   "metadata": {},
   "outputs": [
    {
     "name": "stdout",
     "output_type": "stream",
     "text": [
      "28.6209237575531\n"
     ]
    }
   ],
   "source": [
    "tend = time.time()\n",
    "print(tend-t)"
   ]
  },
  {
   "cell_type": "code",
   "execution_count": 8,
   "metadata": {},
   "outputs": [
    {
     "name": "stdout",
     "output_type": "stream",
     "text": [
      "0.3333333333333333\n",
      "[0.04752019 0.05520954 0.06820454 0.03006536]\n",
      "54.717822790145874\n"
     ]
    },
    {
     "data": {
      "image/png": "[encoded data removed]",
      "text/plain": [
       "<Figure size 432x288 with 1 Axes>"
      ]
     },
     "metadata": {
      "needs_background": "light"
     },
     "output_type": "display_data"
    }
   ],
   "source": [
    "\n",
    "import matplotlib.pyplot as plt\n",
    "import numpy as np\n",
    "import scipy.stats as sp\n",
    "import time\n",
    "import random\n",
    "t = time.time()\n",
    "img1=plt.imread('/home/jitu/pyprojects/band1(R).png')\n",
    "img2=plt.imread('/home/jitu/pyprojects/band2(G).png')\n",
    "img3=plt.imread('/home/jitu/pyprojects/band3(B).png')\n",
    "img4=plt.imread('/home/jitu/pyprojects/band4(I).png')\n",
    "actual = plt.imread('/home/jitu/pyprojects/ground_truth.png')\n",
    "non_riv = np.loadtxt('/home/jitu/pyprojects/non_river.txt')\n",
    "riv = np.loadtxt('/home/jitu/pyprojects/river.txt')\n",
    "\n",
    "len1 = len(riv)\n",
    "len2  = len(non_riv)\n",
    "len3 = len1 + len2\n",
    "prior_riv = len1/len3\n",
    "prior_non_riv = len2/len3\n",
    "print(prior_riv)\n",
    "\n",
    "result_riv = np.array(np.zeros(len1*4).reshape(len1,4))\n",
    "\n",
    "for i in range(len1):\n",
    "    result_riv[i] = [img1[int(riv[i,0]),int(riv[i,1])],img2[int(riv[i,0]),int(riv[i,1])],img3[int(riv[i,0]),int(riv[i,1])],img4[int(riv[i,0]),int(riv[i,1])]]\n",
    "    \n",
    "result_nonriv = np.array(np.zeros(len2*4).reshape(len2,4))\n",
    "\n",
    "for i in range(len2):\n",
    "    result_nonriv[i] = [img1[int(non_riv[i,0]),int(non_riv[i,1])],img2[int(non_riv[i,0]),int(non_riv[i,1])],img3[int(non_riv[i,0]),int(non_riv[i,1])],img4[int(non_riv[i,0]),int(non_riv[i,1])]]    \n",
    "\n",
    "    \n",
    "riv_mu = np.mean(result_riv,axis = 0)\n",
    "nonriv_mu = np.mean(result_nonriv,axis = 0)\n",
    "riv_cov = np.cov(result_riv,rowvar=False)\n",
    "nonriv_cov = np.cov(result_nonriv,rowvar=False)\n",
    "print(riv_mu)\n",
    "final = np.array(np.zeros(512**2).reshape(512,512))\n",
    "\n",
    "lik_riv = sp.multivariate_normal(riv_mu,riv_cov)\n",
    "lik_nonriv = sp.multivariate_normal(nonriv_mu,nonriv_cov)\n",
    "for i in range (512):\n",
    "    for j in range(512):\n",
    "        postprob_riv = lik_riv.pdf([img1[i,j],img2[i,j],img3[i,j],img4[i,j]]) * prior_riv\n",
    "        postprob_nonriv = lik_nonriv.pdf([img1[i,j],img2[i,j],img3[i,j],img4[i,j]])*prior_non_riv\n",
    "        if(postprob_riv >postprob_nonriv):\n",
    "            final[i,j] = 1\n",
    "plt.imshow(final)\n",
    "tend = time.time()\n",
    "print(tend-t)\n"
   ]
  },
  {
   "cell_type": "code",
   "execution_count": 36,
   "metadata": {},
   "outputs": [
    {
     "name": "stdout",
     "output_type": "stream",
     "text": [
      "0.3333333333333333\n",
      "[0.04752019 0.05520954 0.06820454 0.03006536]\n",
      "time  53.725197315216064\n"
     ]
    },
    {
     "data": {
      "text/plain": [
       "<matplotlib.image.AxesImage at 0x7fa65736d4e0>"
      ]
     },
     "execution_count": 36,
     "metadata": {},
     "output_type": "execute_result"
    },
    {
     "data": {
      "image/png": "[encoded data removed]",
      "text/plain": [
       "<Figure size 432x288 with 1 Axes>"
      ]
     },
     "metadata": {
      "needs_background": "light"
     },
     "output_type": "display_data"
    }
   ],
   "source": [
    "\n",
    "import matplotlib.pyplot as plt\n",
    "import numpy as np\n",
    "import scipy.stats as sp\n",
    "import time\n",
    "import random\n",
    "t = time.time()\n",
    "img1=plt.imread('/home/jitu/pyprojects/band1(R).png')\n",
    "img2=plt.imread('/home/jitu/pyprojects/band2(G).png')\n",
    "img3=plt.imread('/home/jitu/pyprojects/band3(B).png')\n",
    "img4=plt.imread('/home/jitu/pyprojects/band4(I).png')\n",
    "actual = plt.imread('/home/jitu/pyprojects/ground_truth.png')\n",
    "non_riv = np.loadtxt('/home/jitu/pyprojects/non_river.txt')\n",
    "riv = np.loadtxt('/home/jitu/pyprojects/river.txt')\n",
    "\n",
    "len1 = len(riv)\n",
    "len2  = len(non_riv)\n",
    "len3 = len1 + len2\n",
    "prior_riv = len1/len3\n",
    "prior_non_riv = len2/len3\n",
    "print(prior_riv)\n",
    "\n",
    "result_riv = np.array(np.zeros(len1*4).reshape(len1,4))\n",
    "\n",
    "for i in range(len1):\n",
    "    result_riv[i] = [img1[int(riv[i,0]),int(riv[i,1])],img2[int(riv[i,0]),int(riv[i,1])],img3[int(riv[i,0]),int(riv[i,1])],img4[int(riv[i,0]),int(riv[i,1])]]\n",
    "    \n",
    "result_nonriv = np.array(np.zeros(len2*4).reshape(len2,4))\n",
    "\n",
    "for i in range(len2):\n",
    "    result_nonriv[i] = [img1[int(non_riv[i,0]),int(non_riv[i,1])],img2[int(non_riv[i,0]),int(non_riv[i,1])],img3[int(non_riv[i,0]),int(non_riv[i,1])],img4[int(non_riv[i,0]),int(non_riv[i,1])]]    \n",
    "\n",
    "    \n",
    "riv_mu = np.mean(result_riv,axis = 0)\n",
    "nonriv_mu = np.mean(result_nonriv,axis = 0)\n",
    "riv_cov = np.cov(result_riv,rowvar=False)\n",
    "nonriv_cov = np.cov(result_nonriv,rowvar=False)\n",
    "print(riv_mu)\n",
    "final = np.array(np.zeros(512**2).reshape(512,512))\n",
    "\n",
    "lik_riv = sp.multivariate_normal(riv_mu,riv_cov)\n",
    "lik_nonriv = sp.multivariate_normal(nonriv_mu,nonriv_cov)\n",
    "\n",
    "for i in range (512):\n",
    "    for j in range(512):\n",
    "        postprob_riv = lik_riv.pdf([img1[i,j],img2[i,j],img3[i,j],img4[i,j]]) * prior_riv\n",
    "        postprob_nonriv = lik_nonriv.pdf([img1[i,j],img2[i,j],img3[i,j],img4[i,j]])*prior_non_riv\n",
    "        if(postprob_riv >postprob_nonriv):\n",
    "            final[i,j] = 1\n",
    "tend = time.time()\n",
    "print(\"time \",tend-t)\n",
    "plt.imshow(final)\n"
   ]
  },
  {
   "cell_type": "code",
   "execution_count": 39,
   "metadata": {},
   "outputs": [
    {
     "name": "stdout",
     "output_type": "stream",
     "text": [
      "Accuracy 0.9979400634765625\n"
     ]
    }
   ],
   "source": [
    "\n",
    "actual = actual.flatten() #    ground truth value in one row\n",
    "final = final.flatten()         #    predicted final value in one row\n",
    "A= sum([1 for x,y in zip(actual,final) if x==y])\n",
    "print(\"Accuracy\", A/(512*512))\n"
   ]
  },
  {
   "cell_type": "code",
   "execution_count": null,
   "metadata": {},
   "outputs": [],
   "source": []
  }
 ],
 "metadata": {
  "kernelspec": {
   "display_name": "Python 3",
   "language": "python",
   "name": "python3"
  },
  "language_info": {
   "codemirror_mode": {
    "name": "ipython",
    "version": 3
   },
   "file_extension": ".py",
   "mimetype": "text/x-python",
   "name": "python",
   "nbconvert_exporter": "python",
   "pygments_lexer": "ipython3",
   "version": "3.6.6"
  }
 },
 "nbformat": 4,
 "nbformat_minor": 2
}
