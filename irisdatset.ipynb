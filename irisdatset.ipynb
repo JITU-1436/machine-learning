{
 "cells": [
  {
   "cell_type": "code",
   "execution_count": 153,
   "metadata": {},
   "outputs": [
    {
     "name": "stdout",
     "output_type": "stream",
     "text": [
      "(30, 1)\n",
      "38 40 42\n"
     ]
    }
   ],
   "source": [
    "\n",
    "\n",
    "import random\n",
    "import scipy.stats as sp\n",
    "import numpy as np\n",
    "import matplotlib.pyplot as plt\n",
    "from mpl_toolkits.mplot3d import Axes3D\n",
    "from sklearn import datasets\n",
    "from sklearn.decomposition import PCA\n",
    "#  Load Iris Data Set\n",
    "iris = datasets.load_iris()\n",
    "#  Extract Data set\n",
    "data = iris.data\n",
    "# Extract Class Label\n",
    "class_label = iris.target\n",
    "feature  = data\n",
    "#     Insert fifth row as a Class Label\n",
    "feature = np.insert(feature,4,class_label,axis =1)\n",
    "# Shufle \n",
    "np.random.shuffle(feature)\n",
    "\n",
    "training = feature[:120:,4:]\n",
    "training_class = feature[:120:,4:]\n",
    "validation = feature[120:,:4]\n",
    "valid_class = feature[120:,4:]\n",
    "print(valid_class.shape)\n",
    "\n",
    "#print(feature)\n",
    "count0 = sum([1 for x in feature[:120,:] if x[4] == 0])\n",
    "count1 = sum([1 for x in feature[:120,:] if x[4] == 1])\n",
    "count2 = sum([1 for x in feature[:120,:] if x[4] == 2])\n",
    "\n",
    "# FInd Prior probability of all Class\n",
    "prior_count0 = count0/120\n",
    "prior_count1 = count1/120\n",
    "prior_count2 = count2/120\n",
    "print(count0,count1,count2)\n",
    "\n",
    "feature0 = []\n",
    "feature1 = []\n",
    "feature2 = []\n",
    "for x in feature[:120:]:\n",
    "    if x[4] == 0:\n",
    "        feature0.append(x[0:4])\n",
    "    elif x[4] ==1:\n",
    "        feature1.append(x[0:4])\n",
    "    else:\n",
    "        feature2.append(x[0:4])\n",
    "\n",
    "        \n"
   ]
  },
  {
   "cell_type": "markdown",
   "metadata": {},
   "source": [
    "#      Validation Phase\n"
   ]
  },
  {
   "cell_type": "code",
   "execution_count": 154,
   "metadata": {},
   "outputs": [],
   "source": [
    "mu0 = np.mean(feature0,axis =0)\n",
    "mu1 = np.mean(feature1,axis=0)\n",
    "mu2 = np.mean(feature2,axis=0)\n",
    "cov0 = np.cov(feature0,rowvar=False)\n",
    "cov1 = np.cov(feature1,rowvar=False)\n",
    "cov2 = np.cov(feature2,rowvar=False)\n",
    "\n",
    "post_prob0 = sp.multivariate_normal.pdf(validation,mu0,cov0) * prior_count0\n",
    "post_prob1 = sp.multivariate_normal.pdf(validation,mu1,cov1) * prior_count1\n",
    "post_prob2 = sp.multivariate_normal.pdf(validation,mu2,cov2) * prior_count2\n",
    "\n",
    "\n",
    "def find_class(x,y,z):\n",
    "    if x>y and x>z:\n",
    "        return 0\n",
    "    elif y>x and y>z:\n",
    "        return 1\n",
    "    else:\n",
    "        return 2\n",
    "pred_class = [find_class(x,y,z)  for x,y,z in zip(post_prob0,post_prob1,post_prob2)]\n"
   ]
  },
  {
   "cell_type": "markdown",
   "metadata": {},
   "source": [
    "\n",
    "# find Accuracy for validation phase"
   ]
  },
  {
   "cell_type": "code",
   "execution_count": 155,
   "metadata": {},
   "outputs": [
    {
     "name": "stdout",
     "output_type": "stream",
     "text": [
      "0.9666666666666667\n",
      "(120, 1)\n"
     ]
    }
   ],
   "source": [
    "\n",
    "tp = sum([1 for x,y in zip(pred_class,valid_class) if x==y])\n",
    "accuracy = tp/30\n",
    "print(accuracy)\n",
    "print(training_class.shape)"
   ]
  },
  {
   "cell_type": "markdown",
   "metadata": {},
   "source": [
    "# Acuuracy for Traing Phase"
   ]
  },
  {
   "cell_type": "code",
   "execution_count": 160,
   "metadata": {},
   "outputs": [
    {
     "name": "stdout",
     "output_type": "stream",
     "text": [
      "(120, 1) (4,) (4, 4)\n",
      "0.35\n"
     ]
    }
   ],
   "source": [
    "#print(validation.shape,mu0.shape,cov0.shape)\n",
    "print(training.shape,mu0.shape,cov0.shape)\n",
    "post_train0 = sp.multivariate_normal.pdf(training,mu0,cov0) * prior_count0\n",
    "post_train1 = sp.multivariate_normal.pdf(training,mu1,cov1) * prior_count1\n",
    "post_train2 = sp.multivariate_normal.pdf(training,mu2,cov2) * prior_count2\n",
    "\n",
    "pred_class = [find_class(x,y,z)  for x,y,z in zip(post_train0,post_train1,post_train2)]\n",
    "\n",
    "tp = sum([1 for x,y in zip(pred_class,training_class) if x==y])\n",
    "accuracy = tp/120\n",
    "print(accuracy)"
   ]
  },
  {
   "cell_type": "code",
   "execution_count": null,
   "metadata": {},
   "outputs": [],
   "source": []
  },
  {
   "cell_type": "code",
   "execution_count": null,
   "metadata": {},
   "outputs": [],
   "source": []
  }
 ],
 "metadata": {
  "kernelspec": {
   "display_name": "Python 3",
   "language": "python",
   "name": "python3"
  },
  "language_info": {
   "codemirror_mode": {
    "name": "ipython",
    "version": 3
   },
   "file_extension": ".py",
   "mimetype": "text/x-python",
   "name": "python",
   "nbconvert_exporter": "python",
   "pygments_lexer": "ipython3",
   "version": "3.6.6"
  }
 },
 "nbformat": 4,
 "nbformat_minor": 2
}
