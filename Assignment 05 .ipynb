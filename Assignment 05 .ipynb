{
 "cells": [
  {
   "cell_type": "markdown",
   "metadata": {},
   "source": [
    "Assignment 05\n",
    "Covariance matrix\n",
    "Jitendra Kumar \n",
    "Date : 14.01.2019\n"
   ]
  },
  {
   "cell_type": "code",
   "execution_count": 18,
   "metadata": {},
   "outputs": [],
   "source": [
    "import numpy as np\n",
    "import matplotlib.pyplot as plt\n",
    "# Normal distributed x and y vector with mean 0 and standard deviation 1\n",
    "x = np.random.normal(0, 1, 500)\n",
    "y = np.random.normal(0, 1, 500)\n",
    "\n"
   ]
  },
  {
   "cell_type": "code",
   "execution_count": 19,
   "metadata": {},
   "outputs": [
    {
     "data": {
      "text/plain": [
       "array([[ 0.95240932, -0.03588972],\n",
       "       [-0.03588972,  0.99701138]])"
      ]
     },
     "execution_count": 19,
     "metadata": {},
     "output_type": "execute_result"
    },
    {
     "data": {
      "image/png": "[encoded data removed]",
      "text/plain": [
       "<Figure size 432x288 with 1 Axes>"
      ]
     },
     "metadata": {
      "needs_background": "light"
     },
     "output_type": "display_data"
    }
   ],
   "source": [
    "\n",
    "X = np.vstack((x, y)).T\n",
    "plt.scatter(X[:, 0], X[:, 1])\n",
    "plt.title('Generated Data')\n",
    "plt.axis('equal')\n",
    "# Covariance\n",
    "def cov(x, y):\n",
    "    xbar, ybar = x.mean(), y.mean()\n",
    "    return np.sum((x - xbar)*(y - ybar))/(len(x) - 1)\n",
    "\n",
    "# Covariance matrix\n",
    "\n",
    "def cov_mat(X):\n",
    "        return np.array([[cov(X[0], X[0]), cov(X[0], X[1])], \n",
    "                     [cov(X[1], X[0]), cov(X[1], X[1])]])\n",
    "    # Center the matrix at the origin\n",
    "X = X - np.mean(X, 0)\n",
    "\n",
    "\n",
    "plt.scatter(Y[:, 0], Y[:, 1])\n",
    "plt.title('Transformed Data')\n",
    "\n",
    "plt.axis('equal')\n",
    "\n",
    "\n",
    "# Calculate covariance matrix \n",
    "cov_mat(X.T) # (or with np.cov(X.T))\n"
   ]
  },
  {
   "cell_type": "code",
   "execution_count": 6,
   "metadata": {},
   "outputs": [
    {
     "data": {
      "text/plain": [
       "array([[ 0.51938445, -0.09405832],\n",
       "       [-0.09405832, 12.18807033]])"
      ]
     },
     "execution_count": 6,
     "metadata": {},
     "output_type": "execute_result"
    }
   ],
   "source": [
    "\n",
    "# Calculate covariance matrix\n",
    "cov_mat(Y.T)"
   ]
  },
  {
   "cell_type": "code",
   "execution_count": null,
   "metadata": {},
   "outputs": [],
   "source": []
  }
 ],
 "metadata": {
  "kernelspec": {
   "display_name": "Python 3",
   "language": "python",
   "name": "python3"
  },
  "language_info": {
   "codemirror_mode": {
    "name": "ipython",
    "version": 3
   },
   "file_extension": ".py",
   "mimetype": "text/x-python",
   "name": "python",
   "nbconvert_exporter": "python",
   "pygments_lexer": "ipython3",
   "version": "3.6.6"
  }
 },
 "nbformat": 4,
 "nbformat_minor": 2
}
